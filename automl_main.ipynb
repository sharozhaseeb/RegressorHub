{
 "cells": [
  {
   "cell_type": "code",
   "execution_count": 1,
   "metadata": {},
   "outputs": [
    {
     "name": "stdout",
     "output_type": "stream",
     "text": [
      "Independent Values;\n",
      "['Hours Studied', 'Previous Scores', 'Extracurricular Activities', 'Sleep Hours', 'Sample Question Papers Practiced']\n",
      "dependent Values;\n",
      "Performance Index\n"
     ]
    }
   ],
   "source": [
    "import pandas as pd\n",
    "import numpy as np\n",
    "\n",
    "def load_data(csv_file):\n",
    "    data = pd.read_csv(csv_file)\n",
    "    data_col_list = data.columns.to_list()\n",
    "    x_col_list = data_col_list[:-1]\n",
    "    print(f\"Independent Values;\\n{x_col_list}\")\n",
    "\n",
    "    y_col = data_col_list[-1]\n",
    "    #Extract the independent variables (features) into matrix X\n",
    "    X = data[x_col_list].values\n",
    "\n",
    "    #Extract the dependent variable into vector Y\n",
    "    Y = data[y_col].values\n",
    "    print(f\"dependent Values;\\n{y_col}\")\n",
    "    return X, Y\n",
    "\n",
    "\n",
    "csv_file = 'dataset/Student_Performance_preprocess_normalized_minmax.csv'\n",
    "X, Y = load_data(csv_file)"
   ]
  },
  {
   "cell_type": "code",
   "execution_count": 2,
   "metadata": {},
   "outputs": [
    {
     "name": "stderr",
     "output_type": "stream",
     "text": [
      "/tmp/ipykernel_333518/2873297455.py:13: DeprecationWarning: `ensemble_size` has been deprecated, please use `ensemble_kwargs = {'ensemble_size': 1}`. Inserting `ensemble_size` into `ensemble_kwargs` for now. `ensemble_size` will be removed in auto-sklearn 0.16.\n",
      "  automl = autosklearn.regression.AutoSklearnRegressor(\n"
     ]
    },
    {
     "name": "stdout",
     "output_type": "stream",
     "text": [
      "[WARNING] [2023-09-17 02:19:37,284:Client-AutoML(42):bd118678-54d6-11ee-96ce-c7e84a0062f3] Time limit for a single run is higher than total time limit. Capping the limit for a single run to the total time given to SMAC (59.514654)\n",
      "[WARNING] [2023-09-17 02:19:37,284:Client-AutoML(42):bd118678-54d6-11ee-96ce-c7e84a0062f3] Capping the per_run_time_limit to 29.0 to have time for a least 2 models in each process.\n",
      "R2 Score: 0.9889785125825429\n",
      "Mean Squared Error: 4.084399193090869\n",
      "Best Model: {8: {'model_id': 8, 'rank': 1, 'cost': 0.01144159542293588, 'ensemble_weight': 1.0, 'data_preprocessor': <autosklearn.pipeline.components.data_preprocessing.DataPreprocessorChoice object at 0x7f3141aae640>, 'feature_preprocessor': <autosklearn.pipeline.components.feature_preprocessing.FeaturePreprocessorChoice object at 0x7f3141b65f10>, 'regressor': <autosklearn.pipeline.components.regression.RegressorChoice object at 0x7f3141b65160>, 'sklearn_regressor': ARDRegression(alpha_1=0.000902745247612653, alpha_2=1.460549185544636e-10,\n",
      "              copy_X=False, lambda_1=4.435537579074724e-09,\n",
      "              lambda_2=2.128561351928784e-08,\n",
      "              threshold_lambda=1132.429745344044, tol=9.068123470563838e-05)}}\n"
     ]
    }
   ],
   "source": [
    "import autosklearn.regression\n",
    "\n",
    "from sklearn.model_selection import train_test_split\n",
    "\n",
    "# Load your dataset (X and Y)\n",
    "# Replace this with your dataset loading code\n",
    "# X, Y = load_your_data()\n",
    "\n",
    "# Split the data into training and testing sets\n",
    "X_train, X_test, Y_train, Y_test = train_test_split(X, Y, test_size=0.2, random_state=42)\n",
    "\n",
    "# Create an instance of Auto-sklearn regressor\n",
    "automl = autosklearn.regression.AutoSklearnRegressor(\n",
    "    time_left_for_this_task=60,  # Time limit in seconds\n",
    "    per_run_time_limit=60,        # Time limit for each model\n",
    "    ensemble_size=1,               # Number of models to ensemble\n",
    "    initial_configurations_via_metalearning=0,\n",
    "    seed=42                        # Random seed for reproducibility\n",
    ")\n",
    "\n",
    "# Fit Auto-sklearn to your training data\n",
    "automl.fit(X_train, Y_train)\n",
    "\n",
    "# Get predictions on the test data\n",
    "Y_pred = automl.predict(X_test)\n",
    "\n",
    "# Evaluate the model\n",
    "from sklearn.metrics import r2_score, mean_squared_error\n",
    "\n",
    "r2 = r2_score(Y_test, Y_pred)\n",
    "mse = mean_squared_error(Y_test, Y_pred)\n",
    "\n",
    "print(\"R2 Score:\", r2)\n",
    "print(\"Mean Squared Error:\", mse)\n",
    "\n",
    "# Print the best model found by Auto-sklearn\n",
    "print(\"Best Model:\", automl.show_models())\n"
   ]
  },
  {
   "cell_type": "code",
   "execution_count": 4,
   "metadata": {},
   "outputs": [
    {
     "name": "stdout",
     "output_type": "stream",
     "text": [
      "[[0.5        0.49152542 0.         0.8        0.22222222]\n",
      " [0.125      0.10169492 1.         0.         0.88888889]\n",
      " [0.75       0.27118644 1.         0.6        0.55555556]\n",
      " ...\n",
      " [0.125      0.         1.         0.6        0.22222222]\n",
      " [0.25       0.72881356 0.         0.6        0.55555556]\n",
      " [0.5        0.33898305 0.         0.8        0.44444444]]\n"
     ]
    }
   ],
   "source": [
    "print(X_test)"
   ]
  },
  {
   "cell_type": "code",
   "execution_count": 5,
   "metadata": {},
   "outputs": [
    {
     "name": "stdout",
     "output_type": "stream",
     "text": [
      "[36.59601593]\n"
     ]
    }
   ],
   "source": [
    "print(automl.predict([np.array([0.500,    0.203390,\t1.0,\t0.2,\t0.22222])]))"
   ]
  },
  {
   "cell_type": "code",
   "execution_count": 7,
   "metadata": {},
   "outputs": [
    {
     "name": "stdout",
     "output_type": "stream",
     "text": [
      "Model saved to: models/automl_Performance_Linear_Regression.pkl\n"
     ]
    }
   ],
   "source": [
    "import joblib\n",
    "\n",
    "model_save_path = 'models/automl_Performance_Linear_Regression.pkl'  # Replace with your desired file path\n",
    "\n",
    "# Save the trained model using joblib\n",
    "joblib.dump(automl, model_save_path)\n",
    "\n",
    "print(\"Model saved to:\", model_save_path)\n"
   ]
  },
  {
   "cell_type": "code",
   "execution_count": 1,
   "metadata": {},
   "outputs": [
    {
     "data": {
      "application/vnd.jupyter.widget-view+json": {
       "model_id": "da11cf53f4da481a826c666028f4c80a",
       "version_major": 2,
       "version_minor": 0
      },
      "text/plain": [
       "automl_Performance_Linear_Regression.pkl:   0%|          | 0.00/377k [00:00<?, ?B/s]"
      ]
     },
     "metadata": {},
     "output_type": "display_data"
    },
    {
     "data": {
      "application/vnd.jupyter.widget-view+json": {
       "model_id": "104a777353844f8db9f9dd577e2fadc9",
       "version_major": 2,
       "version_minor": 0
      },
      "text/plain": [
       "Upload 1 LFS files:   0%|          | 0/1 [00:00<?, ?it/s]"
      ]
     },
     "metadata": {},
     "output_type": "display_data"
    },
    {
     "data": {
      "text/plain": [
       "'https://huggingface.co/sharoz/automl_Student_Marks/blob/main/model.pkl'"
      ]
     },
     "execution_count": 1,
     "metadata": {},
     "output_type": "execute_result"
    }
   ],
   "source": [
    "from huggingface_hub import HfApi\n",
    "api = HfApi()\n",
    "api.upload_file(\n",
    "    path_or_fileobj=\"models/automl_Performance_Linear_Regression.pkl\",\n",
    "    path_in_repo=\"model.pkl\",\n",
    "    repo_id=\"sharoz/automl_Student_Marks\",\n",
    "    repo_type=\"model\",\n",
    ")"
   ]
  },
  {
   "cell_type": "code",
   "execution_count": null,
   "metadata": {},
   "outputs": [],
   "source": []
  }
 ],
 "metadata": {
  "kernelspec": {
   "display_name": "base",
   "language": "python",
   "name": "python3"
  },
  "language_info": {
   "codemirror_mode": {
    "name": "ipython",
    "version": 3
   },
   "file_extension": ".py",
   "mimetype": "text/x-python",
   "name": "python",
   "nbconvert_exporter": "python",
   "pygments_lexer": "ipython3",
   "version": "3.9.12"
  },
  "orig_nbformat": 4
 },
 "nbformat": 4,
 "nbformat_minor": 2
}
