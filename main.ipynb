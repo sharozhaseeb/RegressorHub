{
 "cells": [
  {
   "cell_type": "markdown",
   "metadata": {},
   "source": [
    "# Dataset PreProcessing"
   ]
  },
  {
   "cell_type": "code",
   "execution_count": 20,
   "metadata": {},
   "outputs": [],
   "source": [
    "import pandas as pd"
   ]
  },
  {
   "cell_type": "markdown",
   "metadata": {},
   "source": [
    "## One-hot Encoding"
   ]
  },
  {
   "cell_type": "code",
   "execution_count": 21,
   "metadata": {},
   "outputs": [],
   "source": [
    "def preprocess_df(df_path):\n",
    "\n",
    "    df = pd.read_csv(df_path)\n",
    "    df['Extracurricular Activities'] = df['Extracurricular Activities'].map({'Yes': 1, 'No': 0})\n",
    "    df.to_csv(\"dataset/Student_Performance_preprocess.csv\", index = False)\n",
    "\n",
    "preprocess_df(df_path=\"dataset/Student_Performance.csv\")"
   ]
  },
  {
   "cell_type": "code",
   "execution_count": 22,
   "metadata": {},
   "outputs": [
    {
     "data": {
      "text/html": [
       "<div>\n",
       "<style scoped>\n",
       "    .dataframe tbody tr th:only-of-type {\n",
       "        vertical-align: middle;\n",
       "    }\n",
       "\n",
       "    .dataframe tbody tr th {\n",
       "        vertical-align: top;\n",
       "    }\n",
       "\n",
       "    .dataframe thead th {\n",
       "        text-align: right;\n",
       "    }\n",
       "</style>\n",
       "<table border=\"1\" class=\"dataframe\">\n",
       "  <thead>\n",
       "    <tr style=\"text-align: right;\">\n",
       "      <th></th>\n",
       "      <th>Hours Studied</th>\n",
       "      <th>Previous Scores</th>\n",
       "      <th>Extracurricular Activities</th>\n",
       "      <th>Sleep Hours</th>\n",
       "      <th>Sample Question Papers Practiced</th>\n",
       "      <th>Performance Index</th>\n",
       "    </tr>\n",
       "  </thead>\n",
       "  <tbody>\n",
       "    <tr>\n",
       "      <th>0</th>\n",
       "      <td>7</td>\n",
       "      <td>99</td>\n",
       "      <td>1</td>\n",
       "      <td>9</td>\n",
       "      <td>1</td>\n",
       "      <td>91.0</td>\n",
       "    </tr>\n",
       "    <tr>\n",
       "      <th>1</th>\n",
       "      <td>4</td>\n",
       "      <td>82</td>\n",
       "      <td>0</td>\n",
       "      <td>4</td>\n",
       "      <td>2</td>\n",
       "      <td>65.0</td>\n",
       "    </tr>\n",
       "    <tr>\n",
       "      <th>2</th>\n",
       "      <td>8</td>\n",
       "      <td>51</td>\n",
       "      <td>1</td>\n",
       "      <td>7</td>\n",
       "      <td>2</td>\n",
       "      <td>45.0</td>\n",
       "    </tr>\n",
       "    <tr>\n",
       "      <th>3</th>\n",
       "      <td>5</td>\n",
       "      <td>52</td>\n",
       "      <td>1</td>\n",
       "      <td>5</td>\n",
       "      <td>2</td>\n",
       "      <td>36.0</td>\n",
       "    </tr>\n",
       "    <tr>\n",
       "      <th>4</th>\n",
       "      <td>7</td>\n",
       "      <td>75</td>\n",
       "      <td>0</td>\n",
       "      <td>8</td>\n",
       "      <td>5</td>\n",
       "      <td>66.0</td>\n",
       "    </tr>\n",
       "  </tbody>\n",
       "</table>\n",
       "</div>"
      ],
      "text/plain": [
       "   Hours Studied  Previous Scores  Extracurricular Activities  Sleep Hours  \\\n",
       "0              7               99                           1            9   \n",
       "1              4               82                           0            4   \n",
       "2              8               51                           1            7   \n",
       "3              5               52                           1            5   \n",
       "4              7               75                           0            8   \n",
       "\n",
       "   Sample Question Papers Practiced  Performance Index  \n",
       "0                                 1               91.0  \n",
       "1                                 2               65.0  \n",
       "2                                 2               45.0  \n",
       "3                                 2               36.0  \n",
       "4                                 5               66.0  "
      ]
     },
     "execution_count": 22,
     "metadata": {},
     "output_type": "execute_result"
    }
   ],
   "source": [
    "df = pd.read_csv('dataset/Student_Performance_preprocess.csv')\n",
    "df.head()"
   ]
  },
  {
   "cell_type": "code",
   "execution_count": 25,
   "metadata": {},
   "outputs": [
    {
     "name": "stdout",
     "output_type": "stream",
     "text": [
      "['Hours Studied', 'Previous Scores', 'Extracurricular Activities', 'Sleep Hours', 'Sample Question Papers Practiced', 'Performance Index']\n"
     ]
    }
   ],
   "source": [
    "vas = df.columns.to_list()\n",
    "print(vas)"
   ]
  },
  {
   "cell_type": "markdown",
   "metadata": {},
   "source": [
    "## Z-score Normalization"
   ]
  },
  {
   "cell_type": "code",
   "execution_count": 23,
   "metadata": {},
   "outputs": [],
   "source": [
    "import pandas as pd\n",
    "from sklearn.preprocessing import StandardScaler\n"
   ]
  },
  {
   "cell_type": "code",
   "execution_count": 26,
   "metadata": {},
   "outputs": [
    {
     "data": {
      "text/html": [
       "<div>\n",
       "<style scoped>\n",
       "    .dataframe tbody tr th:only-of-type {\n",
       "        vertical-align: middle;\n",
       "    }\n",
       "\n",
       "    .dataframe tbody tr th {\n",
       "        vertical-align: top;\n",
       "    }\n",
       "\n",
       "    .dataframe thead th {\n",
       "        text-align: right;\n",
       "    }\n",
       "</style>\n",
       "<table border=\"1\" class=\"dataframe\">\n",
       "  <thead>\n",
       "    <tr style=\"text-align: right;\">\n",
       "      <th></th>\n",
       "      <th>Hours Studied</th>\n",
       "      <th>Previous Scores</th>\n",
       "      <th>Extracurricular Activities</th>\n",
       "      <th>Sleep Hours</th>\n",
       "      <th>Sample Question Papers Practiced</th>\n",
       "      <th>Performance Index</th>\n",
       "    </tr>\n",
       "  </thead>\n",
       "  <tbody>\n",
       "    <tr>\n",
       "      <th>0</th>\n",
       "      <td>0.775188</td>\n",
       "      <td>1.704176</td>\n",
       "      <td>1</td>\n",
       "      <td>1.456205</td>\n",
       "      <td>-1.249754</td>\n",
       "      <td>91.0</td>\n",
       "    </tr>\n",
       "    <tr>\n",
       "      <th>1</th>\n",
       "      <td>-0.383481</td>\n",
       "      <td>0.723913</td>\n",
       "      <td>0</td>\n",
       "      <td>-1.492294</td>\n",
       "      <td>-0.900982</td>\n",
       "      <td>65.0</td>\n",
       "    </tr>\n",
       "    <tr>\n",
       "      <th>2</th>\n",
       "      <td>1.161410</td>\n",
       "      <td>-1.063626</td>\n",
       "      <td>1</td>\n",
       "      <td>0.276805</td>\n",
       "      <td>-0.900982</td>\n",
       "      <td>45.0</td>\n",
       "    </tr>\n",
       "    <tr>\n",
       "      <th>3</th>\n",
       "      <td>0.002742</td>\n",
       "      <td>-1.005963</td>\n",
       "      <td>1</td>\n",
       "      <td>-0.902594</td>\n",
       "      <td>-0.900982</td>\n",
       "      <td>36.0</td>\n",
       "    </tr>\n",
       "    <tr>\n",
       "      <th>4</th>\n",
       "      <td>0.775188</td>\n",
       "      <td>0.320275</td>\n",
       "      <td>0</td>\n",
       "      <td>0.866505</td>\n",
       "      <td>0.145333</td>\n",
       "      <td>66.0</td>\n",
       "    </tr>\n",
       "  </tbody>\n",
       "</table>\n",
       "</div>"
      ],
      "text/plain": [
       "   Hours Studied  Previous Scores  Extracurricular Activities  Sleep Hours  \\\n",
       "0       0.775188         1.704176                           1     1.456205   \n",
       "1      -0.383481         0.723913                           0    -1.492294   \n",
       "2       1.161410        -1.063626                           1     0.276805   \n",
       "3       0.002742        -1.005963                           1    -0.902594   \n",
       "4       0.775188         0.320275                           0     0.866505   \n",
       "\n",
       "   Sample Question Papers Practiced  Performance Index  \n",
       "0                         -1.249754               91.0  \n",
       "1                         -0.900982               65.0  \n",
       "2                         -0.900982               45.0  \n",
       "3                         -0.900982               36.0  \n",
       "4                          0.145333               66.0  "
      ]
     },
     "execution_count": 26,
     "metadata": {},
     "output_type": "execute_result"
    }
   ],
   "source": [
    "def normalize_columns_zscore(dataframe, columns_to_standardize):\n",
    "    standardized_df = dataframe.copy()\n",
    "    \n",
    "    # Initialize the StandardScaler\n",
    "    scaler = StandardScaler()\n",
    "    \n",
    "    # Standardize the specified columns\n",
    "    standardized_df[columns_to_standardize] = scaler.fit_transform(standardized_df[columns_to_standardize])\n",
    "    standardized_df.to_csv(\"dataset/Student_Performance_preprocess_normalized_zscore.csv\", index = False)\n",
    "    return standardized_df\n",
    "\n",
    "standardized_df = normalize_columns_zscore(df, ['Hours Studied', 'Previous Scores', 'Sleep Hours', 'Sample Question Papers Practiced'])\n",
    "standardized_df.head()"
   ]
  },
  {
   "cell_type": "markdown",
   "metadata": {},
   "source": [
    "## MinMax Normalization"
   ]
  },
  {
   "cell_type": "code",
   "execution_count": 27,
   "metadata": {},
   "outputs": [
    {
     "data": {
      "text/html": [
       "<div>\n",
       "<style scoped>\n",
       "    .dataframe tbody tr th:only-of-type {\n",
       "        vertical-align: middle;\n",
       "    }\n",
       "\n",
       "    .dataframe tbody tr th {\n",
       "        vertical-align: top;\n",
       "    }\n",
       "\n",
       "    .dataframe thead th {\n",
       "        text-align: right;\n",
       "    }\n",
       "</style>\n",
       "<table border=\"1\" class=\"dataframe\">\n",
       "  <thead>\n",
       "    <tr style=\"text-align: right;\">\n",
       "      <th></th>\n",
       "      <th>Hours Studied</th>\n",
       "      <th>Previous Scores</th>\n",
       "      <th>Extracurricular Activities</th>\n",
       "      <th>Sleep Hours</th>\n",
       "      <th>Sample Question Papers Practiced</th>\n",
       "      <th>Performance Index</th>\n",
       "    </tr>\n",
       "  </thead>\n",
       "  <tbody>\n",
       "    <tr>\n",
       "      <th>0</th>\n",
       "      <td>0.750</td>\n",
       "      <td>1.000000</td>\n",
       "      <td>1.0</td>\n",
       "      <td>1.0</td>\n",
       "      <td>0.111111</td>\n",
       "      <td>91.0</td>\n",
       "    </tr>\n",
       "    <tr>\n",
       "      <th>1</th>\n",
       "      <td>0.375</td>\n",
       "      <td>0.711864</td>\n",
       "      <td>0.0</td>\n",
       "      <td>0.0</td>\n",
       "      <td>0.222222</td>\n",
       "      <td>65.0</td>\n",
       "    </tr>\n",
       "    <tr>\n",
       "      <th>2</th>\n",
       "      <td>0.875</td>\n",
       "      <td>0.186441</td>\n",
       "      <td>1.0</td>\n",
       "      <td>0.6</td>\n",
       "      <td>0.222222</td>\n",
       "      <td>45.0</td>\n",
       "    </tr>\n",
       "    <tr>\n",
       "      <th>3</th>\n",
       "      <td>0.500</td>\n",
       "      <td>0.203390</td>\n",
       "      <td>1.0</td>\n",
       "      <td>0.2</td>\n",
       "      <td>0.222222</td>\n",
       "      <td>36.0</td>\n",
       "    </tr>\n",
       "    <tr>\n",
       "      <th>4</th>\n",
       "      <td>0.750</td>\n",
       "      <td>0.593220</td>\n",
       "      <td>0.0</td>\n",
       "      <td>0.8</td>\n",
       "      <td>0.555556</td>\n",
       "      <td>66.0</td>\n",
       "    </tr>\n",
       "  </tbody>\n",
       "</table>\n",
       "</div>"
      ],
      "text/plain": [
       "   Hours Studied  Previous Scores  Extracurricular Activities  Sleep Hours  \\\n",
       "0          0.750         1.000000                         1.0          1.0   \n",
       "1          0.375         0.711864                         0.0          0.0   \n",
       "2          0.875         0.186441                         1.0          0.6   \n",
       "3          0.500         0.203390                         1.0          0.2   \n",
       "4          0.750         0.593220                         0.0          0.8   \n",
       "\n",
       "   Sample Question Papers Practiced  Performance Index  \n",
       "0                          0.111111               91.0  \n",
       "1                          0.222222               65.0  \n",
       "2                          0.222222               45.0  \n",
       "3                          0.222222               36.0  \n",
       "4                          0.555556               66.0  "
      ]
     },
     "execution_count": 27,
     "metadata": {},
     "output_type": "execute_result"
    }
   ],
   "source": [
    "import pandas as pd\n",
    "from sklearn.preprocessing import MinMaxScaler\n",
    "\n",
    "def normalize_columns_minmax(dataframe, columns_to_standardize):\n",
    "    standardized_df = dataframe.copy()\n",
    "    \n",
    "    # Initialize the StandardScaler\n",
    "    scaler = MinMaxScaler()\n",
    "    \n",
    "    # Standardize the specified columns\n",
    "    standardized_df[columns_to_standardize] = scaler.fit_transform(standardized_df[columns_to_standardize])\n",
    "    standardized_df.to_csv(\"dataset/Student_Performance_preprocess_normalized_minmax.csv\", index = False)\n",
    "\n",
    "    return standardized_df\n",
    "\n",
    "\n",
    "standardized_df = normalize_columns_minmax(df, ['Hours Studied', 'Previous Scores', 'Extracurricular Activities', 'Sleep Hours', 'Sample Question Papers Practiced']\n",
    ")\n",
    "standardized_df.head()\n"
   ]
  },
  {
   "cell_type": "markdown",
   "metadata": {},
   "source": [
    "## Load Data"
   ]
  },
  {
   "cell_type": "code",
   "execution_count": 32,
   "metadata": {},
   "outputs": [
    {
     "name": "stdout",
     "output_type": "stream",
     "text": [
      "Independent Values;\n",
      "['Hours Studied', 'Previous Scores', 'Extracurricular Activities', 'Sleep Hours', 'Sample Question Papers Practiced']\n",
      "dependent Values;\n",
      "Performance Index\n"
     ]
    }
   ],
   "source": [
    "import pandas as pd\n",
    "import numpy as np\n",
    "\n",
    "def load_data(csv_file):\n",
    "    data = pd.read_csv(csv_file)\n",
    "    data_col_list = data.columns.to_list()\n",
    "    x_col_list = data_col_list[:-1]\n",
    "    print(f\"Independent Values;\\n{x_col_list}\")\n",
    "\n",
    "    y_col = data_col_list[-1]\n",
    "    #Extract the independent variables (features) into matrix X\n",
    "    X = data[x_col_list].values\n",
    "\n",
    "    #Extract the dependent variable into vector Y\n",
    "    Y = data[y_col].values\n",
    "    print(f\"dependent Values;\\n{y_col}\")\n",
    "    return X, Y\n",
    "\n",
    "\n",
    "csv_file = 'dataset/Student_Performance_preprocess_normalized_minmax.csv'\n",
    "X, Y = load_data(csv_file)\n"
   ]
  },
  {
   "cell_type": "code",
   "execution_count": 33,
   "metadata": {},
   "outputs": [
    {
     "name": "stdout",
     "output_type": "stream",
     "text": [
      "[[0.75       1.         1.         1.         0.11111111]\n",
      " [0.375      0.71186441 0.         0.         0.22222222]\n",
      " [0.875      0.18644068 1.         0.6        0.22222222]\n",
      " ...\n",
      " [0.625      0.72881356 1.         0.8        0.55555556]\n",
      " [1.         0.96610169 1.         0.6        0.        ]\n",
      " [0.75       0.57627119 0.         0.8        0.11111111]]\n",
      "<class 'numpy.ndarray'>, (10000, 5)\n",
      "----\n",
      "[91. 65. 45. ... 74. 95. 64.]\n",
      "<class 'numpy.ndarray'>, (10000,)\n"
     ]
    }
   ],
   "source": [
    "print(X)\n",
    "print(f\"{type(X)}, {X.shape}\")\n",
    "print(\"----\")\n",
    "print(Y)\n",
    "print(f\"{type(Y)}, {Y.shape}\")\n"
   ]
  },
  {
   "cell_type": "markdown",
   "metadata": {},
   "source": [
    "# Dataset Splitting"
   ]
  },
  {
   "cell_type": "code",
   "execution_count": 4,
   "metadata": {},
   "outputs": [],
   "source": [
    "from sklearn.model_selection import train_test_split\n",
    "\n",
    "def split_data(X, Y, test_size=0.3, random_state=None):\n",
    "    \"\"\"\n",
    "    Split the data into training and test sets.\n",
    "\n",
    "    Args:\n",
    "    X (numpy.ndarray): The independent variables (features).\n",
    "    Y (numpy.ndarray): The dependent variable.\n",
    "    test_size (float): The proportion of data to include in the test split (default is 0.3).\n",
    "    random_state (int or None): Seed for random number generation (optional).\n",
    "\n",
    "    Returns:\n",
    "    X_train (numpy.ndarray): Training data for independent variables.\n",
    "    X_test (numpy.ndarray): Test data for independent variables.\n",
    "    Y_train (numpy.ndarray): Training data for the dependent variable.\n",
    "    Y_test (numpy.ndarray): Test data for the dependent variable.\n",
    "    \"\"\"\n",
    "    X_train, X_test, Y_train, Y_test = train_test_split(X, Y, test_size=test_size, random_state=random_state)\n",
    "    return X_train, X_test, Y_train, Y_test\n",
    "\n",
    "X_train, X_test, Y_train, Y_test = split_data(X, Y, test_size=0.3, random_state=42)\n"
   ]
  },
  {
   "cell_type": "code",
   "execution_count": 34,
   "metadata": {},
   "outputs": [
    {
     "name": "stdout",
     "output_type": "stream",
     "text": [
      "[[0.5        0.49152542 0.         0.8        0.22222222]\n",
      " [0.125      0.10169492 1.         0.         0.88888889]\n",
      " [0.75       0.27118644 1.         0.6        0.55555556]\n",
      " ...\n",
      " [0.5        0.13559322 1.         0.4        0.44444444]\n",
      " [0.25       0.77966102 1.         1.         0.55555556]\n",
      " [0.625      0.05084746 1.         0.4        0.44444444]]\n",
      "lenght of array 3000\n",
      "<class 'numpy.ndarray'>\n",
      "----\n",
      "[[0.375      1.         1.         0.4        0.11111111]\n",
      " [0.625      0.84745763 1.         1.         0.33333333]\n",
      " [0.875      0.28813559 0.         0.4        0.11111111]\n",
      " ...\n",
      " [1.         0.13559322 0.         0.6        0.66666667]\n",
      " [0.         0.11864407 0.         1.         0.        ]\n",
      " [0.125      0.10169492 0.         0.4        0.66666667]]\n",
      "lenght of array 7000\n",
      "<class 'numpy.ndarray'>\n",
      "----\n",
      "[51. 20. 46. ... 33. 69. 29.]\n",
      "lenght of array 3000\n",
      "<class 'numpy.ndarray'>\n",
      "----\n",
      "[82. 79. 50. ... 44. 20. 24.]\n",
      "lenght of array 7000\n",
      "<class 'numpy.ndarray'>\n",
      "----\n"
     ]
    }
   ],
   "source": [
    "print(X_test)\n",
    "print(f'lenght of array {len(X_test)}')\n",
    "print(type(X_test))\n",
    "print(\"----\")\n",
    "\n",
    "print(X_train)\n",
    "print(f'lenght of array {len(X_train)}')\n",
    "print(type(X_train))\n",
    "print(\"----\")\n",
    "\n",
    "print(Y_test)\n",
    "print(f'lenght of array {len(Y_test)}')\n",
    "print(type(Y_test))\n",
    "print(\"----\")\n",
    "\n",
    "print(Y_train)\n",
    "print(f'lenght of array {len(Y_train)}')\n",
    "print(type(Y_train))\n",
    "print(\"----\")"
   ]
  },
  {
   "cell_type": "markdown",
   "metadata": {},
   "source": [
    "# Helper Functions"
   ]
  },
  {
   "cell_type": "markdown",
   "metadata": {},
   "source": [
    "### Prediction Function"
   ]
  },
  {
   "cell_type": "code",
   "execution_count": 7,
   "metadata": {},
   "outputs": [],
   "source": [
    "def H_function(X, weights, bias):\n",
    "    \"\"\"\n",
    "    Compute the estimated prices for all examples in the training set.\n",
    "\n",
    "    Args:\n",
    "    X (numpy.ndarray): Training data for independent variables.\n",
    "    weights (numpy.ndarray): Model coefficients (weights).\n",
    "    bias (float): Model bias term.\n",
    "\n",
    "    Returns:\n",
    "    estimated_prices (numpy.ndarray): Estimated prices for all examples in the training set.\n",
    "    \"\"\"\n",
    "    estimated_prices = np.dot(X, weights) + bias\n",
    "    return estimated_prices\n",
    "\n",
    "# Usage:\n",
    "# Assuming you have already trained your linear regression model and obtained the weights and bias.\n",
    "# estimated_prices_train = H_function(X_train, updated_weights, updated_bias)\n"
   ]
  },
  {
   "cell_type": "markdown",
   "metadata": {},
   "source": [
    "### Cost Function"
   ]
  },
  {
   "cell_type": "code",
   "execution_count": 6,
   "metadata": {},
   "outputs": [],
   "source": [
    "def Cost_function(X, Y, weights, bias):\n",
    "    \"\"\"\n",
    "    Compute the mean squared error (MSE) cost for a given hypothesis (model).\n",
    "\n",
    "    Args:\n",
    "    X (numpy.ndarray): Training data for independent variables.\n",
    "    Y (numpy.ndarray): Actual values (dependent variable).\n",
    "    weights (numpy.ndarray): Model coefficients (weights).\n",
    "    bias (float): Model bias term.\n",
    "\n",
    "    Returns:\n",
    "    cost (float): Mean squared error cost.\n",
    "    \"\"\"\n",
    "    # Compute the predicted values using the hypothesis function\n",
    "    predicted_values = H_function(X, weights, bias)\n",
    "    \n",
    "    # Calculate the squared differences between predicted and actual values\n",
    "    squared_errors = (predicted_values - Y) ** 2\n",
    "    \n",
    "    # Calculate the mean squared error\n",
    "    cost = np.mean(squared_errors)\n",
    "    \n",
    "    return cost\n",
    "\n",
    "# Usage:\n",
    "# Assuming you have already trained your linear regression model and obtained the weights and bias.\n",
    "# cost_train = Cost_function(X_train, Y_train, weights, bias)\n"
   ]
  },
  {
   "cell_type": "markdown",
   "metadata": {},
   "source": [
    "### Plot Function"
   ]
  },
  {
   "cell_type": "code",
   "execution_count": 35,
   "metadata": {},
   "outputs": [],
   "source": [
    "import matplotlib.pyplot as plt\n",
    "import datetime\n",
    "\n",
    "\n",
    "def Plot_data(train_costs, test_costs):\n",
    "    \"\"\"\n",
    "    Plot the cost (MSE) for both the train and test sets after each epoch.\n",
    "\n",
    "    Args:\n",
    "    train_costs (list): List of training cost values for each epoch.\n",
    "    test_costs (list): List of test cost values for each epoch.\n",
    "    \"\"\"\n",
    "    epochs = range(1, len(train_costs) + 1)\n",
    "    current_datetime = datetime.datetime.now()\n",
    "    formatted_datetime = current_datetime.strftime(\"%Y-%m-%d %H:%M:%S\")\n",
    "\n",
    "\n",
    "    plt.figure(figsize=(10, 6), facecolor='white')\n",
    "    \n",
    "    plt.plot(epochs, train_costs, label='Train Cost', marker='o', linestyle='-')\n",
    "    plt.plot(epochs, test_costs, label='Test Cost', marker='x', linestyle='-')\n",
    "    plt.xlabel('Number of Epochs')\n",
    "    plt.ylabel('Cost (MSE)')\n",
    "    plt.title('Cost vs. Number of Epochs')\n",
    "    plt.legend()\n",
    "    plt.grid(True)\n",
    "    plt.tight_layout()\n",
    "    plt.savefig(f\"{formatted_datetime}_plt.png\")\n",
    "    plt.show()"
   ]
  },
  {
   "cell_type": "markdown",
   "metadata": {},
   "source": [
    "### Gradient Descent"
   ]
  },
  {
   "cell_type": "code",
   "execution_count": 36,
   "metadata": {},
   "outputs": [],
   "source": [
    "def Gradient_descent(X_train, Y_train, X_test, Y_test, weights, bias, learning_rate, num_epochs):\n",
    "    \"\"\"\n",
    "    Perform gradient descent to update the model parameters (weights and bias).\n",
    "\n",
    "    Args:\n",
    "    X (numpy.ndarray): Training data for independent variables.\n",
    "    Y (numpy.ndarray): Actual values (dependent variable).\n",
    "    weights (numpy.ndarray): Model coefficients (weights).\n",
    "    bias (float): Model bias term.\n",
    "    learning_rate (float): Learning rate for gradient descent.\n",
    "    num_epochs (int): Number of epochs for training.\n",
    "\n",
    "    Returns:\n",
    "    weights (numpy.ndarray): Updated model coefficients (weights).\n",
    "    bias (float): Updated model bias term.\n",
    "    cost_history (list): List of cost values for each epoch.\n",
    "    \"\"\"\n",
    "    train_cost_history = []\n",
    "    test_cost_history = []\n",
    "\n",
    "\n",
    "    # Optional: Normalize the data\n",
    "    X_mean = np.mean(X_train, axis=0)\n",
    "    X_std = np.std(X_train, axis=0)\n",
    "    X_normalized = (X_train - X_mean) / X_std\n",
    "\n",
    "    for epoch in range(num_epochs):\n",
    "        # Compute the predicted values using the current model\n",
    "        predicted_values = H_function(X_normalized, weights, bias)\n",
    "        \n",
    "        # Compute the gradients of the weights and bias\n",
    "        gradient_weights = (1 / len(Y_train)) * np.dot(X_normalized.T, (predicted_values - Y_train))\n",
    "        gradient_bias = (1 / len(Y_train)) * np.sum(predicted_values - Y_train)\n",
    "        \n",
    "        # Update the weights and bias using the gradients and learning rate\n",
    "        weights -= learning_rate * gradient_weights\n",
    "        bias -= learning_rate * gradient_bias\n",
    "        \n",
    "        # Calculate the cost and append it to the cost history\n",
    "        train_cost = Cost_function(X_normalized, Y_train, weights, bias)\n",
    "        # cost_history.append(cost)\n",
    "        train_cost_history.append(train_cost)\n",
    "        \n",
    "        test_cost = Cost_function(X_test, Y_test, weights, bias)\n",
    "        test_cost_history.append(test_cost)\n",
    "        \n",
    "        # Print the cost for every 100 epochs (optional)\n",
    "        if epoch % 100 == 0:\n",
    "            print(f\"Epoch {epoch}: Train_Cost = {train_cost}  //  Test_Cost = {test_cost}\")\n",
    "\n",
    "    return weights, bias, train_cost_history, test_cost_history\n",
    "\n",
    "\n"
   ]
  },
  {
   "cell_type": "markdown",
   "metadata": {},
   "source": [
    "# Training"
   ]
  },
  {
   "cell_type": "markdown",
   "metadata": {},
   "source": [
    "### HyperParameters"
   ]
  },
  {
   "cell_type": "code",
   "execution_count": 37,
   "metadata": {},
   "outputs": [],
   "source": [
    "# Best HyperParams\n",
    "\n",
    "\n",
    "learning_rate = 0.001  # Adjust as needed\n",
    "num_epochs = 2000\n",
    "\n",
    "# Initialize random weights\n",
    "# initial_weights = np.random.rand(X_train.shape[1])\n",
    "\n",
    "# Generate random weights between 1 and 1.1\n",
    "# initial_weights = 1 + 0.1 * np.random.rand(X_train.shape[1])\n",
    "\n",
    "# Define the range for weight initialization\n",
    "min_value = 0.9\n",
    "max_value = 1.0\n",
    "\n",
    "# Generate random weights within the specified range\n",
    "initial_weights = min_value + (max_value - min_value) * np.random.rand(X_train.shape[1])\n",
    "\n",
    "# Set initial bias\n",
    "initial_bias = 0\n"
   ]
  },
  {
   "cell_type": "markdown",
   "metadata": {},
   "source": [
    "### Train"
   ]
  },
  {
   "cell_type": "code",
   "execution_count": null,
   "metadata": {},
   "outputs": [],
   "source": [
    "updated_weights, updated_bias, train_cost_history, test_cost_history = Gradient_descent(X_train, Y_train, X_test, Y_test, initial_weights, initial_bias, learning_rate, num_epochs)\n"
   ]
  },
  {
   "cell_type": "markdown",
   "metadata": {},
   "source": [
    "# Predict"
   ]
  },
  {
   "cell_type": "markdown",
   "metadata": {},
   "source": [
    "### Input Array"
   ]
  },
  {
   "cell_type": "code",
   "execution_count": 10,
   "metadata": {},
   "outputs": [],
   "source": [
    "input = np.array([0.500,    0.203390,\t1.0,\t0.2,\t0.22222])\n",
    "\n"
   ]
  },
  {
   "cell_type": "markdown",
   "metadata": {},
   "source": [
    "### Predict"
   ]
  },
  {
   "cell_type": "code",
   "execution_count": 39,
   "metadata": {},
   "outputs": [],
   "source": [
    "prediction = H_function(X= input,\n",
    "                         weights= updated_weights,\n",
    "                         bias= updated_bias)"
   ]
  },
  {
   "cell_type": "code",
   "execution_count": 40,
   "metadata": {},
   "outputs": [
    {
     "name": "stdout",
     "output_type": "stream",
     "text": [
      "55.022494398342495\n"
     ]
    }
   ],
   "source": [
    "print(prediction)"
   ]
  },
  {
   "cell_type": "markdown",
   "metadata": {},
   "source": [
    "# Plot Cost History"
   ]
  },
  {
   "cell_type": "code",
   "execution_count": 41,
   "metadata": {},
   "outputs": [
    {
     "data": {
      "image/png": "[encoded data removed]",
      "text/plain": [
       "<Figure size 720x432 with 1 Axes>"
      ]
     },
     "metadata": {},
     "output_type": "display_data"
    }
   ],
   "source": [
    "# Assuming you have lists of training and test costs obtained during training\n",
    "Plot_data(train_cost_history, test_cost_history)\n"
   ]
  },
  {
   "cell_type": "markdown",
   "metadata": {},
   "source": [
    "# Save Model"
   ]
  },
  {
   "cell_type": "markdown",
   "metadata": {},
   "source": [
    "### Local Save -Update file path before running"
   ]
  },
  {
   "cell_type": "code",
   "execution_count": 42,
   "metadata": {},
   "outputs": [],
   "source": [
    "import pickle\n",
    "\n",
    "\n",
    "# Create a dictionary to store the model parameters\n",
    "model_parameters = {\n",
    "    'weights': updated_weights,\n",
    "    'bias': updated_bias\n",
    "}\n",
    "\n",
    "# Specify the file path where you want to save the model parameters\n",
    "file_path = 'models/Performance_regression.pkl'\n",
    "\n",
    "# Save the model parameters to a .pkl file\n",
    "with open(file_path, 'wb') as file:\n",
    "    pickle.dump(model_parameters, file)\n"
   ]
  },
  {
   "cell_type": "markdown",
   "metadata": {},
   "source": [
    "### Huggingface cloud"
   ]
  },
  {
   "cell_type": "code",
   "execution_count": null,
   "metadata": {},
   "outputs": [],
   "source": [
    "from huggingface_hub import notebook_login\n",
    "\n",
    "notebook_login()"
   ]
  },
  {
   "cell_type": "code",
   "execution_count": 4,
   "metadata": {},
   "outputs": [
    {
     "name": "stderr",
     "output_type": "stream",
     "text": [
      "Performance_regression.pkl: 100%|██████████| 238/238 [00:03<00:00, 63.6B/s]\n",
      "Upload 1 LFS files: 100%|██████████| 1/1 [00:03<00:00,  3.75s/it]\n"
     ]
    },
    {
     "data": {
      "text/plain": [
       "'https://huggingface.co/sharoz/Performance_regression/blob/main/Performace_regression.pkl'"
      ]
     },
     "execution_count": 4,
     "metadata": {},
     "output_type": "execute_result"
    }
   ],
   "source": [
    "from huggingface_hub import HfApi\n",
    "api = HfApi()\n",
    "api.upload_file(\n",
    "    path_or_fileobj=\"models/Performance_regression.pkl\",\n",
    "    path_in_repo=\"Performace_regression.pkl\",\n",
    "    repo_id=\"sharoz/Performance_regression\",\n",
    "    repo_type=\"model\",\n",
    ")"
   ]
  },
  {
   "cell_type": "code",
   "execution_count": null,
   "metadata": {},
   "outputs": [],
   "source": []
  },
  {
   "cell_type": "markdown",
   "metadata": {},
   "source": [
    "# Load Saved Model"
   ]
  },
  {
   "cell_type": "code",
   "execution_count": 45,
   "metadata": {},
   "outputs": [
    {
     "name": "stdout",
     "output_type": "stream",
     "text": [
      "Input Data: [0.5     0.20339 1.      0.2     0.22222]\n",
      "Predictions: 55.022494398342495\n"
     ]
    }
   ],
   "source": [
    "import pickle\n",
    "\n",
    "# Specify the file path where the model parameters are saved\n",
    "file_path = 'models/Performance_regression.pkl'\n",
    "\n",
    "# Load the model parameters from the .pkl file\n",
    "with open(file_path, 'rb') as file:\n",
    "    loaded_model_parameters = pickle.load(file)\n",
    "\n",
    "# Access the loaded weights and bias for inference\n",
    "loaded_weights = loaded_model_parameters['weights']\n",
    "loaded_bias = loaded_model_parameters['bias']\n",
    "\n",
    "# Perform inference using the loaded model parameters\n",
    "input_data = np.array([0.500,    0.203390,\t1.0,\t0.2,\t0.22222])\n",
    "predictions = H_function(input_data, loaded_weights, loaded_bias)\n",
    "\n",
    "# Display the predictions\n",
    "print(\"Input Data:\", input_data)\n",
    "print(\"Predictions:\", predictions)\n"
   ]
  },
  {
   "cell_type": "code",
   "execution_count": null,
   "metadata": {},
   "outputs": [],
   "source": []
  },
  {
   "cell_type": "code",
   "execution_count": null,
   "metadata": {},
   "outputs": [],
   "source": []
  },
  {
   "cell_type": "code",
   "execution_count": null,
   "metadata": {},
   "outputs": [],
   "source": []
  },
  {
   "cell_type": "markdown",
   "metadata": {},
   "source": [
    "# Logistic Regression"
   ]
  },
  {
   "cell_type": "code",
   "execution_count": 46,
   "metadata": {},
   "outputs": [],
   "source": [
    "import numpy as np\n",
    "import pandas as pd\n",
    "from sklearn.model_selection import train_test_split\n",
    "import matplotlib.pyplot as plt"
   ]
  },
  {
   "cell_type": "code",
   "execution_count": 71,
   "metadata": {},
   "outputs": [],
   "source": [
    "data = pd.read_csv('dataset/Heart_Disease.csv')\n",
    "# data = pd.read_csv(\"dataset/Student_Performance_preprocess_normalized_minmax.csv\")"
   ]
  },
  {
   "cell_type": "code",
   "execution_count": null,
   "metadata": {},
   "outputs": [],
   "source": [
    "data.columns.to_list()"
   ]
  },
  {
   "cell_type": "code",
   "execution_count": null,
   "metadata": {},
   "outputs": [],
   "source": [
    "import pandas as pd\n",
    "import numpy as np\n",
    "\n",
    "# Replace None values with NaN\n",
    "df = data.fillna(np.nan)\n",
    "\n",
    "# Count NaN values in each column\n",
    "nan_counts = df.isna().sum()\n",
    "\n",
    "# Print the count of NaN values in each column\n",
    "print(nan_counts)\n"
   ]
  },
  {
   "cell_type": "code",
   "execution_count": 75,
   "metadata": {},
   "outputs": [],
   "source": [
    "#Replace NaN value\n",
    "df.fillna(0, inplace=True)\n"
   ]
  },
  {
   "cell_type": "code",
   "execution_count": 86,
   "metadata": {},
   "outputs": [],
   "source": [
    "# Step 3: Split the dataset into training and test sets\n",
    "X = df.drop('TenYearCHD', axis=1)  # Assuming 'dependent_variable' is the target variable\n",
    "Y = df['TenYearCHD']\n",
    "\n",
    "X_train, X_test, Y_train, Y_test = split_data(X, Y, test_size=0.3, random_state=42)"
   ]
  },
  {
   "cell_type": "code",
   "execution_count": null,
   "metadata": {},
   "outputs": [],
   "source": [
    "import numpy as np\n",
    "\n",
    "\n",
    "\n",
    "def sigmoid(z):\n",
    "    \"\"\"\n",
    "    Compute the sigmoid function.\n",
    "\n",
    "    Args:\n",
    "    z (numpy.ndarray): Input values.\n",
    "\n",
    "    Returns:\n",
    "    sigmoid_values (numpy.ndarray): Sigmoid values.\n",
    "    \"\"\"\n",
    "    sigmoid_values = 1 / (1 + np.exp(-z))\n",
    "    return sigmoid_values"
   ]
  },
  {
   "cell_type": "code",
   "execution_count": null,
   "metadata": {},
   "outputs": [],
   "source": [
    "\n",
    "def H_function(X, weights, bias):\n",
    "    \"\"\"\n",
    "    Compute the estimated probabilities for all examples in the dataset using logistic regression.\n",
    "\n",
    "    Args:\n",
    "    X (numpy.ndarray): Input data.\n",
    "    weights (numpy.ndarray): Model coefficients (weights).\n",
    "    bias (float): Model bias term.\n",
    "\n",
    "    Returns:\n",
    "    estimated_probabilities (numpy.ndarray): Estimated probabilities.\n",
    "    \"\"\"\n",
    "    linear_combination = np.dot(X, weights) + bias\n",
    "    estimated_probabilities = sigmoid(linear_combination)\n",
    "    return estimated_probabilities"
   ]
  },
  {
   "cell_type": "code",
   "execution_count": null,
   "metadata": {},
   "outputs": [],
   "source": [
    "def Cost_function_cec(X, Y, weights, bias):\n",
    "    \"\"\"\n",
    "    Compute the cross-entropy cost for logistic regression.\n",
    "\n",
    "    Args:\n",
    "    X (numpy.ndarray): Input data.\n",
    "    Y (numpy.ndarray): Actual labels (0 or 1).\n",
    "    weights (numpy.ndarray): Model coefficients (weights).\n",
    "    bias (float): Model bias term.\n",
    "\n",
    "    Returns:\n",
    "    cost (float): Cross-entropy cost.\n",
    "    \"\"\"\n",
    "    estimated_probabilities = H_function(X, weights, bias)\n",
    "    m = len(Y)\n",
    "    epsilon = 1e-15  # Small epsilon value to prevent log(0) issues\n",
    "\n",
    "    # Calculate the cross-entropy cost\n",
    "    cost = (-1 / m) * np.sum(Y * np.log(estimated_probabilities + epsilon) + (1 - Y) * np.log(1 - estimated_probabilities + epsilon))\n",
    "    return cost"
   ]
  },
  {
   "cell_type": "code",
   "execution_count": 110,
   "metadata": {},
   "outputs": [],
   "source": [
    "def Gradient_descent(X_train, Y_train, X_test, Y_test, weights, bias, learning_rate, num_epochs):\n",
    "    train_cost_history = []\n",
    "    test_cost_history = []\n",
    "\n",
    "    # Optional: Normalize the data\n",
    "    X_mean = np.mean(X_train, axis=0)\n",
    "    X_std = np.std(X_train, axis=0)\n",
    "    X_normalized_train = (X_train - X_mean) / X_std\n",
    "    X_normalized_test = (X_test - X_mean) / X_std\n",
    "\n",
    "    for epoch in range(num_epochs):\n",
    "        # Compute the predicted probabilities using the current model\n",
    "        train_probabilities = H_function(X_normalized_train, weights, bias)\n",
    "        # test_probabilities = H_function(X_normalized_test, weights, bias)\n",
    "\n",
    "        # Compute the gradients of the weights and bias with sigmoid\n",
    "        gradient_weights = (1 / len(Y_train)) * np.dot(X_normalized_train.T, (train_probabilities - Y_train))\n",
    "        gradient_bias = (1 / len(Y_train)) * np.sum(train_probabilities - Y_train)\n",
    "\n",
    "        # Update the weights and bias using the gradients and learning rate\n",
    "        weights -= learning_rate * gradient_weights\n",
    "        bias -= learning_rate * gradient_bias\n",
    "\n",
    "        # Calculate the cost for training and test sets and append them to the respective cost histories\n",
    "        train_cost = Cost_function_cec(X_normalized_train, Y_train, weights, bias)\n",
    "        train_cost_history.append(train_cost)\n",
    "\n",
    "        test_cost = Cost_function_cec(X_normalized_test, Y_test, weights, bias)\n",
    "        test_cost_history.append(test_cost)\n",
    "\n",
    "        # Print the cost for every 100 epochs (optional)\n",
    "        if epoch % 100 == 0:\n",
    "            print(f\"Epoch {epoch}: Train_Cost = {train_cost}  //  Test_Cost = {test_cost}\")\n",
    "\n",
    "    return weights, bias, train_cost_history, test_cost_history\n",
    "\n",
    "\n",
    "\n"
   ]
  },
  {
   "cell_type": "code",
   "execution_count": 111,
   "metadata": {},
   "outputs": [],
   "source": [
    "#Best HyperParameters\n",
    "\n",
    "\n",
    "learning_rate = 0.01  # Adjust as needed\n",
    "num_epochs = 2000\n",
    "\n",
    "# Initialize random weights\n",
    "initial_weights = np.random.rand(X_train.shape[1])\n",
    "\n",
    "# Generate random weights between 1 and 1.1\n",
    "# initial_weights = 1 + 0.1 * np.random.rand(X_train.shape[1])\n",
    "\n",
    "# Define the range for weight initialization\n",
    "min_value = 0.9\n",
    "max_value = 1.0\n",
    "\n",
    "# # Generate random weights within the specified range\n",
    "initial_weights = min_value + (max_value - min_value) * np.random.rand(X_train.shape[1])\n",
    "\n",
    "# Set initial bias\n",
    "initial_bias = 0"
   ]
  },
  {
   "cell_type": "code",
   "execution_count": 112,
   "metadata": {},
   "outputs": [
    {
     "name": "stdout",
     "output_type": "stream",
     "text": [
      "Epoch 0: Train_Cost = 1.644475895311175  //  Test_Cost = 1.5758699798535951\n"
     ]
    },
    {
     "name": "stdout",
     "output_type": "stream",
     "text": [
      "Epoch 100: Train_Cost = 1.3761800172714675  //  Test_Cost = 1.31997920677817\n",
      "Epoch 200: Train_Cost = 1.1431781728069763  //  Test_Cost = 1.0973011517034748\n",
      "Epoch 300: Train_Cost = 0.9500436967421728  //  Test_Cost = 0.9122245666448192\n",
      "Epoch 400: Train_Cost = 0.7979611893493035  //  Test_Cost = 0.7660494578791159\n",
      "Epoch 500: Train_Cost = 0.6838312399592716  //  Test_Cost = 0.6560191468590589\n",
      "Epoch 600: Train_Cost = 0.6010644383632195  //  Test_Cost = 0.5760818997657907\n",
      "Epoch 700: Train_Cost = 0.5419259489107796  //  Test_Cost = 0.5190702088105968\n",
      "Epoch 800: Train_Cost = 0.4997264012298551  //  Test_Cost = 0.4786279131776873\n",
      "Epoch 900: Train_Cost = 0.4695503672388254  //  Test_Cost = 0.44996868549773555\n",
      "Epoch 1000: Train_Cost = 0.44794596327099884  //  Test_Cost = 0.4297061290168145\n",
      "Epoch 1100: Train_Cost = 0.4324173947496782  //  Test_Cost = 0.41541334792778173\n",
      "Epoch 1200: Train_Cost = 0.4211127703790964  //  Test_Cost = 0.4053047129140918\n",
      "Epoch 1300: Train_Cost = 0.41268792703398893  //  Test_Cost = 0.3980746674297774\n",
      "Epoch 1400: Train_Cost = 0.40621950333855283  //  Test_Cost = 0.39280254310226626\n",
      "Epoch 1500: Train_Cost = 0.40111160250593364  //  Test_Cost = 0.3888672146415004\n",
      "Epoch 1600: Train_Cost = 0.39700206352326195  //  Test_Cost = 0.38586552825197545\n",
      "Epoch 1700: Train_Cost = 0.39368036900438186  //  Test_Cost = 0.383542777860807\n",
      "Epoch 1800: Train_Cost = 0.39101987435459895  //  Test_Cost = 0.38173839507335594\n",
      "Epoch 1900: Train_Cost = 0.3889271472988263  //  Test_Cost = 0.3803457710138814\n"
     ]
    },
    {
     "data": {
      "image/png": "[encoded data removed]",
      "text/plain": [
       "<Figure size 720x432 with 1 Axes>"
      ]
     },
     "metadata": {},
     "output_type": "display_data"
    }
   ],
   "source": [
    "updated_weights, updated_bias, train_cost_history, test_cost_history = Gradient_descent(X_train, Y_train, X_test, Y_test, initial_weights, initial_bias, learning_rate, num_epochs)\n",
    "\n",
    "Plot_data(train_cost_history, test_cost_history)\n"
   ]
  },
  {
   "cell_type": "code",
   "execution_count": 113,
   "metadata": {},
   "outputs": [],
   "source": [
    "import pickle\n",
    "\n",
    "\n",
    "# Create a dictionary to store the model parameters\n",
    "model_parameters = {\n",
    "    'weights': updated_weights,\n",
    "    'bias': updated_bias\n",
    "}\n",
    "\n",
    "# Specify the file path where you want to save the model parameters\n",
    "file_path = 'models/Heart_Disease_logistic_regression.pkl'\n",
    "\n",
    "# Save the model parameters to a .pkl file\n",
    "with open(file_path, 'wb') as file:\n",
    "    pickle.dump(model_parameters, file)\n"
   ]
  },
  {
   "cell_type": "code",
   "execution_count": 114,
   "metadata": {},
   "outputs": [
    {
     "data": {
      "application/vnd.jupyter.widget-view+json": {
       "model_id": "92a2f0261c9c4f7da864bb84e6b6e710",
       "version_major": 2,
       "version_minor": 0
      },
      "text/plain": [
       "Heart_Disease_logistic_regression.pkl:   0%|          | 0.00/318 [00:00<?, ?B/s]"
      ]
     },
     "metadata": {},
     "output_type": "display_data"
    },
    {
     "data": {
      "application/vnd.jupyter.widget-view+json": {
       "model_id": "7f9d3f3e5a2f40449c8f7a46e7fbd38d",
       "version_major": 2,
       "version_minor": 0
      },
      "text/plain": [
       "Upload 1 LFS files:   0%|          | 0/1 [00:00<?, ?it/s]"
      ]
     },
     "metadata": {},
     "output_type": "display_data"
    },
    {
     "data": {
      "text/plain": [
       "'https://huggingface.co/sharoz/Heart_Disease_logistic_regression/blob/main/model.pkl'"
      ]
     },
     "execution_count": 114,
     "metadata": {},
     "output_type": "execute_result"
    }
   ],
   "source": [
    "from huggingface_hub import HfApi\n",
    "api = HfApi()\n",
    "api.upload_file(\n",
    "    path_or_fileobj=\"models/Heart_Disease_logistic_regression.pkl\",\n",
    "    path_in_repo=\"model.pkl\",\n",
    "    repo_id=\"sharoz/Heart_Disease_logistic_regression\",\n",
    "    repo_type=\"model\",\n",
    ")"
   ]
  },
  {
   "cell_type": "code",
   "execution_count": null,
   "metadata": {},
   "outputs": [],
   "source": []
  }
 ],
 "metadata": {
  "kernelspec": {
   "display_name": "base",
   "language": "python",
   "name": "python3"
  },
  "language_info": {
   "codemirror_mode": {
    "name": "ipython",
    "version": 3
   },
   "file_extension": ".py",
   "mimetype": "text/x-python",
   "name": "python",
   "nbconvert_exporter": "python",
   "pygments_lexer": "ipython3",
   "version": "3.9.12"
  },
  "orig_nbformat": 4
 },
 "nbformat": 4,
 "nbformat_minor": 2
}
